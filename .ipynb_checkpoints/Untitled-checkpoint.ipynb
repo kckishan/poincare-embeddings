{
 "cells": [
  {
   "cell_type": "code",
   "execution_count": 1,
   "metadata": {},
   "outputs": [],
   "source": [
    "import torch\n",
    "import numpy as np\n",
    "from time import time\n",
    "import json\n",
    "\n",
    "from datasets import WordNetDataset\n",
    "from poincare import PoincareDistance, PoincareEmbedding, RiemannianSGD"
   ]
  },
  {
   "cell_type": "code",
   "execution_count": 2,
   "metadata": {},
   "outputs": [],
   "source": [
    "with open('demo/config.json','r') as f:\n",
    "    config = json.loads(f.read())"
   ]
  },
  {
   "cell_type": "code",
   "execution_count": 3,
   "metadata": {},
   "outputs": [],
   "source": [
    "data = WordNetDataset(filename=config['data'])\n",
    "dataloader = torch.utils.data.DataLoader(data,batch_size=config['batch_size'])"
   ]
  },
  {
   "cell_type": "code",
   "execution_count": 4,
   "metadata": {},
   "outputs": [],
   "source": [
    "model = PoincareEmbedding(data.n_items)\n",
    "\n",
    "model.initialize_embedding()\n",
    "\n",
    "optimizer = RiemannianSGD(model.parameters())"
   ]
  },
  {
   "cell_type": "code",
   "execution_count": null,
   "metadata": {},
   "outputs": [
    {
     "name": "stdout",
     "output_type": "stream",
     "text": [
      "Epoch 6 / 1000 | loss: 3.9247 | time per epoch: 1.57 sec. | estimated training time: 26 min. 12 sec. 0.0122\r"
     ]
    }
   ],
   "source": [
    "emb_log = []\n",
    "\n",
    "total_time = 0\n",
    "for epoch in range(config['n_epochs']):\n",
    "    epoch_loss = []\n",
    "    start = time()\n",
    "    \n",
    "    if epoch<config['n_burn_in']:\n",
    "        lr = config['lr']/config['c']\n",
    "    else:\n",
    "        lr = config['lr']\n",
    "    \n",
    "    for batch in dataloader:\n",
    "        optimizer.zero_grad()\n",
    "        \n",
    "        x,y = batch\n",
    "        \n",
    "        preds = model(x,y)\n",
    "        loss = model.loss(preds)\n",
    "        \n",
    "        loss.backward()\n",
    "        \n",
    "        optimizer.step(lr=lr)\n",
    "        \n",
    "        epoch_loss.append(loss.data.item())\n",
    "    \n",
    "    if epoch % 5 == 0:\n",
    "        emb = model.embedding.weight.data.numpy().copy()\n",
    "        emb_log.append(emb)\n",
    "        \n",
    "    time_per_epoch = time()-start\n",
    "    total_time += time_per_epoch\n",
    "\n",
    "    model.log.append(np.mean(epoch_loss))\n",
    "\n",
    "    estimated_time = (total_time/(epoch+1))*(config['n_epochs']-epoch-1)\n",
    "\n",
    "    minutes_left = int(estimated_time/60.)\n",
    "\n",
    "    seconds_left = int(estimated_time-60*minutes_left)\n",
    "\n",
    "    print('Epoch',epoch+1,'/',config['n_epochs'],'|',\n",
    "         'loss:',\"%.4f\" % model.log[-1],'|',\n",
    "         \"time per epoch:\",\"%.2f\" % time_per_epoch,'sec.','|',\n",
    "         'estimated training time:',minutes_left,'min.',seconds_left,'sec.',\n",
    "          \"%.4f\" % np.sum(model.embedding.weight.data.numpy()),\n",
    "         end='\\r')"
   ]
  },
  {
   "cell_type": "code",
   "execution_count": null,
   "metadata": {},
   "outputs": [],
   "source": [
    "import plotly.offline as plt\n",
    "import plotly.graph_objs as go\n",
    "import plotly.io as pio\n",
    "from tqdm import tqdm, trange"
   ]
  },
  {
   "cell_type": "code",
   "execution_count": null,
   "metadata": {},
   "outputs": [],
   "source": [
    "with open('data/wordnet/mammal_hierarchy.tsv','r') as f:\n",
    "    edgelist = [line.strip().split('\\t') for line in f.readlines()]"
   ]
  },
  {
   "cell_type": "code",
   "execution_count": null,
   "metadata": {},
   "outputs": [],
   "source": [
    "loss_log = []\n",
    "for i,value in enumerate(model.log):\n",
    "    if i % 5==0:\n",
    "        loss_log.append(value)"
   ]
  },
  {
   "cell_type": "code",
   "execution_count": null,
   "metadata": {},
   "outputs": [],
   "source": [
    "len(loss_log)"
   ]
  },
  {
   "cell_type": "code",
   "execution_count": null,
   "metadata": {},
   "outputs": [],
   "source": [
    "len(emb_log)"
   ]
  },
  {
   "cell_type": "code",
   "execution_count": null,
   "metadata": {},
   "outputs": [],
   "source": [
    "for i in trange(200):\n",
    "    render_graph(vis=emb_log[i],loss=loss_log[i],filename='images/'+\"0\"*(3-len(str(i)))+str(i)+'.png')"
   ]
  },
  {
   "cell_type": "code",
   "execution_count": null,
   "metadata": {},
   "outputs": [],
   "source": [
    "def render_graph(vis,loss,filename):\n",
    "\n",
    "    edge_trace = go.Scatter(\n",
    "          x=[],\n",
    "          y=[],\n",
    "          line=dict(width=0.5,color='#888'),\n",
    "          hoverinfo='none',\n",
    "          mode='lines')\n",
    "\n",
    "    for s0,s1 in edgelist:\n",
    "        x0, y0 = vis[data.item2id[s0]]\n",
    "        x1, y1 = vis[data.item2id[s1]]\n",
    "        edge_trace['x'] += tuple([x0, x1, None])\n",
    "        edge_trace['y'] += tuple([y0, y1, None])\n",
    "\n",
    "    node_trace = go.Scatter(\n",
    "        x=[],\n",
    "        y=[],\n",
    "        text=[],\n",
    "        mode='markers',\n",
    "        hoverinfo='text',\n",
    "        marker=dict(\n",
    "            showscale=False,\n",
    "            reversescale=True,\n",
    "            color='#8b9dc3',\n",
    "            size=2)\n",
    "        )\n",
    "\n",
    "    for name in data.items:\n",
    "        x, y = vis[data.item2id[name]]\n",
    "\n",
    "        node_trace['x'] += tuple([x])\n",
    "        node_trace['y'] += tuple([y])\n",
    "\n",
    "        node_trace['text'] += tuple([name.split('.')[0]])\n",
    "\n",
    "    display_list = ['placental.n.01',\n",
    "       'primate.n.02',\n",
    "       'mammal.n.01',\n",
    "       'carnivore.n.01',\n",
    "       'canine.n.02',\n",
    "       'dog.n.01',\n",
    "       'pug.n.01',\n",
    "       'homo_erectus.n.01',\n",
    "       'homo_sapiens.n.01',\n",
    "       'terrier.n.01',\n",
    "       'rodent.n.01',\n",
    "       'ungulate.n.01',\n",
    "       'odd-toed_ungulate.n.01',\n",
    "       'even-toed_ungulate.n.01',\n",
    "       'monkey.n.01',\n",
    "       'cow.n.01',\n",
    "       'welsh_pony.n.01',\n",
    "       'feline.n.01',\n",
    "       'cheetah.n.01',\n",
    "       'mouse.n.01']\n",
    "\n",
    "    label_trace = go.Scatter(\n",
    "        x=[],\n",
    "        y=[],\n",
    "        mode='text',\n",
    "        text=[],\n",
    "        textposition='top center',\n",
    "        textfont=dict(\n",
    "            family='sans serif',\n",
    "            size=13,\n",
    "            color = \"#000000\"\n",
    "        )\n",
    "      )\n",
    "\n",
    "    for name in display_list:\n",
    "        x,y = vis[data.item2id[name]]\n",
    "        label_trace['x'] += tuple([x])\n",
    "        label_trace['y'] += tuple([y])\n",
    "        label_trace['text'] += tuple([name.split('.')[0]])\n",
    "\n",
    "\n",
    "\n",
    "    fig = go.Figure(data=[edge_trace, node_trace,label_trace],\n",
    "           layout=go.Layout(\n",
    "              title='loss:%.2f'%loss,\n",
    "              width=700,\n",
    "              height=700,\n",
    "              titlefont=dict(size=16),\n",
    "              showlegend=False,\n",
    "              hovermode='closest',\n",
    "              margin=dict(b=20,l=5,r=5,t=40),\n",
    "              xaxis=dict(showgrid=False, zeroline=False, showticklabels=False),\n",
    "              yaxis=dict(showgrid=False, zeroline=False, showticklabels=False)))\n",
    "    \n",
    "    pio.write_image(fig, filename)"
   ]
  }
 ],
 "metadata": {
  "kernelspec": {
   "display_name": "pytorch",
   "language": "python",
   "name": "pytorch"
  },
  "language_info": {
   "codemirror_mode": {
    "name": "ipython",
    "version": 3
   },
   "file_extension": ".py",
   "mimetype": "text/x-python",
   "name": "python",
   "nbconvert_exporter": "python",
   "pygments_lexer": "ipython3",
   "version": "3.6.8"
  }
 },
 "nbformat": 4,
 "nbformat_minor": 2
}
